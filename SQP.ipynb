{
 "cells": [
  {
   "cell_type": "code",
   "execution_count": 2,
   "metadata": {},
   "outputs": [],
   "source": [
    "# import cvxpy as cp\n",
    "import numpy as np\n",
    "from numdifftools import Hessian, Gradient, Jacobian\n",
    "from alpha_algos import get_alpha\n",
    "import quadprog\n",
    "from numpy import linalg as la\n"
   ]
  },
  {
   "cell_type": "code",
   "execution_count": 3,
   "metadata": {},
   "outputs": [],
   "source": [
    "\n",
    "def quad_solver(Q, c, A, eq_constraints, G, ineq_constraints):\n",
    "    d = cp.Variable(len(c))\n",
    "    prob = cp.Problem(cp.Minimize((1/2)*cp.quad_form(d, Q) + c.T @ d),\n",
    "                 [G @ d <= ineq_constraints,\n",
    "                  A @ d == eq_constraints])\n",
    "    prob.solve()\n",
    "    return d.value"
   ]
  },
  {
   "cell_type": "code",
   "execution_count": 4,
   "metadata": {},
   "outputs": [],
   "source": [
    "def nearestPD(A):\n",
    "    B = (A + A.T) / 2\n",
    "    _, s, V = la.svd(B)\n",
    "    H = np.dot(V.T, np.dot(np.diag(s), V))\n",
    "    A2 = (B + H) / 2\n",
    "    A3 = (A2 + A2.T) / 2\n",
    "    if isPD(A3):\n",
    "        return A3\n",
    "    spacing = np.spacing(la.norm(A))\n",
    "    I = np.eye(A.shape[0])\n",
    "    k = 1\n",
    "    while not isPD(A3):\n",
    "        mineig = np.min(np.real(la.eigvals(A3)))\n",
    "        A3 += I * (-mineig * k**2 + spacing)\n",
    "        k += 1\n",
    "    return A3\n",
    "\n",
    "def isPD(B):\n",
    "    \"\"\"Returns true when input is positive-definite, via Cholesky\"\"\"\n",
    "    try:\n",
    "        _ = la.cholesky(B)\n",
    "        return True\n",
    "    except la.LinAlgError:\n",
    "        return False"
   ]
  },
  {
   "cell_type": "code",
   "execution_count": 5,
   "metadata": {},
   "outputs": [],
   "source": [
    "def quadprog_solve_qp(P, q, G=None, h=None, A=None, b=None):\n",
    "    qp_G = .5 * (P + P.T).astype(\"double\")   # make sure P is symmetric\n",
    "    if not isPD(qp_G):\n",
    "        qp_G = nearestPD(qp_G)\n",
    "        print(\"WARNING: Q NOT PD\")\n",
    "    qp_a = -q.astype(\"double\")\n",
    "    if A is not None:\n",
    "        qp_C = -np.vstack([A, G]).T.astype(\"double\")\n",
    "        qp_b = -np.hstack([b, h]).astype(\"double\")\n",
    "        meq = A.shape[0]\n",
    "    else:  # no equality constraint\n",
    "        qp_C = -G.T.astype(\"double\")\n",
    "        qp_b = -h.astype(\"double\")\n",
    "        meq = 0\n",
    "    return quadprog.solve_qp(qp_G, qp_a, qp_C, qp_b, meq)[0]"
   ]
  },
  {
   "cell_type": "code",
   "execution_count": 6,
   "metadata": {},
   "outputs": [],
   "source": [
    "def SQP(f, g, h, x_k0, VERBOSE = True):\n",
    "    f_gradient = Gradient(f)\n",
    "    f_hessian = Hessian(f)\n",
    "    h_jacobian = Jacobian(h)\n",
    "    g_jacobian = Jacobian(g)\n",
    "    n_iter = 0\n",
    "    while n_iter < MAX_ITER:\n",
    "        n_iter +=1\n",
    "        c = f_gradient(x_k0)\n",
    "        Q = f_hessian(x_k0)\n",
    "        A = h_jacobian(x_k0)\n",
    "        G = g_jacobian(x_k0)\n",
    "        ineq_constraints = -g(x_k0).flatten()\n",
    "        eq_constraints = -h(x_k0).flatten()\n",
    "        d = quadprog_solve_qp(Q, c, G, ineq_constraints, A, eq_constraints)\n",
    "        \n",
    "        #quad_solver(Q, c, A, eq_constraints, G, ineq_constraints)\n",
    "        alpha = 1#get_alpha(\"exact\", x_k0, f, f_gradient, d)\n",
    "        x_k_new = x_k0 + d\n",
    "        norm_change = np.linalg.norm(x_k_new - x_k0)\n",
    "        x_k0 = x_k_new\n",
    "        if VERBOSE:\n",
    "            print(f\"\\n----- ITERATION {n_iter}: -------\")\n",
    "            print(f\"Gradient f: {c.round(4)}\")\n",
    "            print(f\"Hessian f: {Q.round(4)}\")\n",
    "            print(f\"Jacobian h: {A.round(4)}\")\n",
    "            print(f\"Jacobian g: {G.round(4)}\")\n",
    "            print(f\"g(x): {-ineq_constraints.round(4)}\")\n",
    "            print(f\"h(x): {eq_constraints.round(4)}\")\n",
    "            print(f\"Direction: {d.round(4)}\")\n",
    "            print(f\"Alpha: {round(alpha, 4)}\")\n",
    "            print(f\"New x: {x_k_new.round(4)}\")\n",
    "            print(f\"||Xk+1 - xk||: {norm_change}\")\n",
    "        if norm_change < EPSILON:\n",
    "            break\n",
    "    return x_k_new"
   ]
  },
  {
   "cell_type": "code",
   "execution_count": 7,
   "metadata": {},
   "outputs": [
    {
     "name": "stdout",
     "output_type": "stream",
     "text": [
      "\n",
      "----- ITERATION 1: -------\n",
      "Gradient f: [18. -4.]\n",
      "Hessian f: [[42. -8.]\n",
      " [-8.  2.]]\n",
      "Jacobian h: [[0. 0.]]\n",
      "Jacobian g: [[ 1. -1.]]\n",
      "g(x): [1.]\n",
      "h(x): [0]\n",
      "Direction: [-0.2  1.2]\n",
      "Alpha: 1\n",
      "New x: [1.8 3.2]\n",
      "||Xk+1 - xk||: 1.2165525060596272\n",
      "\n",
      "----- ITERATION 2: -------\n",
      "Gradient f: [ 1.888 -0.08 ]\n",
      "Hessian f: [[28.08 -7.2 ]\n",
      " [-7.2   2.  ]]\n",
      "Jacobian h: [[0. 0.]]\n",
      "Jacobian g: [[ 0.9 -1. ]]\n",
      "g(x): [-0.39]\n",
      "h(x): [0]\n",
      "Direction: [-0.2343 -0.6009]\n",
      "Alpha: 1\n",
      "New x: [1.5657 2.5991]\n",
      "||Xk+1 - xk||: 0.6449220057164247\n",
      "\n",
      "----- ITERATION 3: -------\n",
      "Gradient f: [0.2065 0.2954]\n",
      "Hessian f: [[21.0208 -6.2628]\n",
      " [-6.2628  2.    ]]\n",
      "Jacobian h: [[0. 0.]]\n",
      "Jacobian g: [[ 0.7829 -1.    ]]\n",
      "g(x): [0.0137]\n",
      "h(x): [0]\n",
      "Direction: [-0.03   -0.0098]\n",
      "Alpha: 1\n",
      "New x: [1.5357 2.5894]\n",
      "||Xk+1 - xk||: 0.0315509335812169\n",
      "\n",
      "----- ITERATION 4: -------\n",
      "Gradient f: [-0.3474  0.4619]\n",
      "Hessian f: [[19.9433 -6.1428]\n",
      " [-6.1428  2.    ]]\n",
      "Jacobian h: [[0. 0.]]\n",
      "Jacobian g: [[ 0.7679 -1.    ]]\n",
      "g(x): [0.0002]\n",
      "h(x): [0]\n",
      "Direction: [-0.0005 -0.0002]\n",
      "Alpha: 1\n",
      "New x: [1.5352 2.5892]\n",
      "||Xk+1 - xk||: 0.0005666210340248536\n",
      "\n",
      "----- ITERATION 5: -------\n",
      "Gradient f: [-0.3569  0.4649]\n",
      "Hessian f: [[19.9243 -6.1407]\n",
      " [-6.1407  2.    ]]\n",
      "Jacobian h: [[0. 0.]]\n",
      "Jacobian g: [[ 0.7676 -1.    ]]\n",
      "g(x): [0.]\n",
      "h(x): [0]\n",
      "Direction: [0. 0.]\n",
      "Alpha: 1\n",
      "New x: [1.5352 2.5892]\n",
      "||Xk+1 - xk||: 1.3032081548416892e-05\n",
      "\n",
      "----- ITERATION 6: -------\n",
      "Gradient f: [-0.3568  0.4648]\n",
      "Hessian f: [[19.9247 -6.1407]\n",
      " [-6.1407  2.    ]]\n",
      "Jacobian h: [[0. 0.]]\n",
      "Jacobian g: [[ 0.7676 -1.    ]]\n",
      "g(x): [0.]\n",
      "h(x): [0]\n",
      "Direction: [-0. -0.]\n",
      "Alpha: 1\n",
      "New x: [1.5352 2.5892]\n",
      "||Xk+1 - xk||: 2.586606314388723e-07\n"
     ]
    },
    {
     "data": {
      "text/plain": [
       "array([1.53518375, 2.58919729])"
      ]
     },
     "execution_count": 7,
     "metadata": {},
     "output_type": "execute_result"
    }
   ],
   "source": [
    "f = lambda x: (x[1]-x[0]**2)**2 + (1-x[0])**2\n",
    "h = lambda x: np.array([0])\n",
    "g = lambda x: 0.25 * x[0]**2 + 2 - x[1]\n",
    "\n",
    "EPSILON = 10e-6\n",
    "MAX_ITER = 1000\n",
    "\n",
    "x_0 = np.array([2,2])\n",
    "SQP(f, g, h, x_0)"
   ]
  },
  {
   "cell_type": "code",
   "execution_count": 8,
   "metadata": {
    "scrolled": false
   },
   "outputs": [
    {
     "name": "stdout",
     "output_type": "stream",
     "text": [
      "WARNING: Q NOT PD\n",
      "\n",
      "----- ITERATION 1: -------\n",
      "Gradient f: [  5.75 -11.75]\n",
      "Hessian f: [[ 0.375 -6.25 ]\n",
      " [-6.25  24.   ]]\n",
      "Jacobian h: [[1. 2.]]\n",
      "Jacobian g: [[-1. -1.]]\n",
      "g(x): [-2]\n",
      "h(x): [0]\n",
      "Direction: [-0.0795  0.0398]\n",
      "Alpha: 1\n",
      "New x: [1.9205 1.0398]\n",
      "||Xk+1 - xk||: 0.08891776882380728\n",
      "WARNING: Q NOT PD\n",
      "\n",
      "----- ITERATION 2: -------\n",
      "Gradient f: [  5.4769 -10.3872]\n",
      "Hessian f: [[ 0.4586 -5.8322]\n",
      " [-5.8322 20.5014]]\n",
      "Jacobian h: [[1.0398 1.9205]]\n",
      "Jacobian g: [[-1. -1.]]\n",
      "g(x): [-1.9602]\n",
      "h(x): [0.0032]\n",
      "Direction: [-0.8886  0.4827]\n",
      "Alpha: 1\n",
      "New x: [1.0319 1.5225]\n",
      "||Xk+1 - xk||: 1.0112337625581265\n",
      "\n",
      "----- ITERATION 3: -------\n",
      "Gradient f: [ 1.1696 -1.7319]\n",
      "Hessian f: [[ 8.0568 -4.4087]\n",
      " [-4.4087  3.5087]]\n",
      "Jacobian h: [[1.5225 1.0319]]\n",
      "Jacobian g: [[-1. -1.]]\n",
      "g(x): [-1.5544]\n",
      "h(x): [0.4289]\n",
      "Direction: [0.009  0.4023]\n",
      "Alpha: 1\n",
      "New x: [1.0409 1.9248]\n",
      "||Xk+1 - xk||: 0.4024381854996722\n",
      "\n",
      "----- ITERATION 4: -------\n",
      "Gradient f: [-0.2959 -0.7629]\n",
      "Hessian f: [[ 9.8364 -3.3926]\n",
      " [-3.3926  1.7516]]\n",
      "Jacobian h: [[1.9248 1.0409]]\n",
      "Jacobian g: [[-1. -1.]]\n",
      "g(x): [-1.9658]\n",
      "h(x): [-0.0036]\n",
      "Direction: [-0.0401  0.0707]\n",
      "Alpha: 1\n",
      "New x: [1.0008 1.9955]\n",
      "||Xk+1 - xk||: 0.0812532513839254\n",
      "\n",
      "----- ITERATION 5: -------\n",
      "Gradient f: [-0.9742 -0.5097]\n",
      "Hessian f: [[11.9331 -3.5018]\n",
      " [-3.5018  1.5114]]\n",
      "Jacobian h: [[1.9955 1.0008]]\n",
      "Jacobian g: [[-1. -1.]]\n",
      "g(x): [-1.9963]\n",
      "h(x): [0.0028]\n",
      "Direction: [-0.0007  0.0043]\n",
      "Alpha: 1\n",
      "New x: [1.0001 1.9998]\n",
      "||Xk+1 - xk||: 0.004367825162927834\n",
      "\n",
      "----- ITERATION 6: -------\n",
      "Gradient f: [-0.9982 -0.5006]\n",
      "Hessian f: [[11.9942 -3.4997]\n",
      " [-3.4997  1.5006]]\n",
      "Jacobian h: [[1.9998 1.0001]]\n",
      "Jacobian g: [[-1. -1.]]\n",
      "g(x): [-1.9999]\n",
      "h(x): [0.]\n",
      "Direction: [-0.0001  0.0002]\n",
      "Alpha: 1\n",
      "New x: [1. 2.]\n",
      "||Xk+1 - xk||: 0.0002056445023800754\n",
      "\n",
      "----- ITERATION 7: -------\n",
      "Gradient f: [-0.9999 -0.5   ]\n",
      "Hessian f: [[11.9996 -3.5   ]\n",
      " [-3.5     1.5   ]]\n",
      "Jacobian h: [[2. 1.]]\n",
      "Jacobian g: [[-1. -1.]]\n",
      "g(x): [-2.]\n",
      "h(x): [0.]\n",
      "Direction: [-0.  0.]\n",
      "Alpha: 1\n",
      "New x: [1. 2.]\n",
      "||Xk+1 - xk||: 1.278013516686368e-05\n",
      "\n",
      "----- ITERATION 8: -------\n",
      "Gradient f: [-1.  -0.5]\n",
      "Hessian f: [[12.  -3.5]\n",
      " [-3.5  1.5]]\n",
      "Jacobian h: [[2. 1.]]\n",
      "Jacobian g: [[-1. -1.]]\n",
      "g(x): [-2.]\n",
      "h(x): [0.]\n",
      "Direction: [-0.  0.]\n",
      "Alpha: 1\n",
      "New x: [1. 2.]\n",
      "||Xk+1 - xk||: 7.983837483331675e-07\n"
     ]
    },
    {
     "name": "stderr",
     "output_type": "stream",
     "text": [
      "C:\\Users\\user\\Anaconda3\\lib\\site-packages\\ipykernel_launcher.py:2: RuntimeWarning: divide by zero encountered in double_scalars\n",
      "  \n"
     ]
    },
    {
     "data": {
      "text/plain": [
       "array([1.00000002, 1.99999995])"
      ]
     },
     "execution_count": 8,
     "metadata": {},
     "output_type": "execute_result"
    }
   ],
   "source": [
    "# Minimize f(x) S.t h(x) = 0 and g(x) < 0\n",
    "f = lambda x: 6*x[0]/x[1] + x[1]/x[0]**2\n",
    "h = lambda x: x[0]*x[1]-2\n",
    "g = lambda x: 1-x[0]-x[1]\n",
    "\n",
    "x_0 = np.array([2,1])\n",
    "SQP(f, g, h, x_0)"
   ]
  },
  {
   "cell_type": "code",
   "execution_count": 27,
   "metadata": {},
   "outputs": [],
   "source": [
    "def is_pd(x):\n",
    "    return np.all(np.linalg.eigvals(x) > 0)\n",
    "\n",
    "def is_psd(x):\n",
    "    return np.all(np.linalg.eigvals(x) >= 0)"
   ]
  },
  {
   "cell_type": "code",
   "execution_count": 28,
   "metadata": {},
   "outputs": [],
   "source": [
    "f = lambda x: 2*x[0]**3 + 3*x[1]**2+3*x[0]**2*x[1]-24*x[1]"
   ]
  },
  {
   "cell_type": "code",
   "execution_count": 29,
   "metadata": {},
   "outputs": [],
   "source": [
    "H, G = Hessian(f), Gradient(f)"
   ]
  },
  {
   "cell_type": "code",
   "execution_count": 63,
   "metadata": {},
   "outputs": [],
   "source": [
    "x = np.array([4, -4])\n"
   ]
  },
  {
   "cell_type": "code",
   "execution_count": 64,
   "metadata": {},
   "outputs": [
    {
     "data": {
      "text/plain": [
       "array([2.21296679e-14, 1.71517833e-14])"
      ]
     },
     "execution_count": 64,
     "metadata": {},
     "output_type": "execute_result"
    }
   ],
   "source": [
    "G(x)"
   ]
  },
  {
   "cell_type": "code",
   "execution_count": 65,
   "metadata": {},
   "outputs": [
    {
     "data": {
      "text/plain": [
       "array([[24., 24.],\n",
       "       [24.,  6.]])"
      ]
     },
     "execution_count": 65,
     "metadata": {},
     "output_type": "execute_result"
    }
   ],
   "source": [
    "H(x)"
   ]
  },
  {
   "cell_type": "code",
   "execution_count": 43,
   "metadata": {},
   "outputs": [
    {
     "data": {
      "text/plain": [
       "True"
      ]
     },
     "execution_count": 43,
     "metadata": {},
     "output_type": "execute_result"
    }
   ],
   "source": [
    "is_pd(H(x))"
   ]
  },
  {
   "cell_type": "code",
   "execution_count": 44,
   "metadata": {},
   "outputs": [
    {
     "data": {
      "text/plain": [
       "True"
      ]
     },
     "execution_count": 44,
     "metadata": {},
     "output_type": "execute_result"
    }
   ],
   "source": [
    "is_psd(H(x))"
   ]
  }
 ],
 "metadata": {
  "kernelspec": {
   "display_name": "Python 3",
   "language": "python",
   "name": "python3"
  },
  "language_info": {
   "codemirror_mode": {
    "name": "ipython",
    "version": 3
   },
   "file_extension": ".py",
   "mimetype": "text/x-python",
   "name": "python",
   "nbconvert_exporter": "python",
   "pygments_lexer": "ipython3",
   "version": "3.7.3"
  }
 },
 "nbformat": 4,
 "nbformat_minor": 4
}
